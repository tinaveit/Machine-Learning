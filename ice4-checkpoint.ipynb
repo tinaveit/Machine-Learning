{
 "cells": [
  {
   "cell_type": "markdown",
   "id": "1997d3e1",
   "metadata": {},
   "source": [
    "# ICE 4\n",
    "\n",
    "## Colby Ogrin, Aiden Kim, Shantanu Patil, Martina Veit Acosta"
   ]
  },
  {
   "cell_type": "code",
   "execution_count": 16,
   "id": "f7aed843",
   "metadata": {},
   "outputs": [],
   "source": [
    "import pandas as pd\n",
    "import statsmodels.api as sm"
   ]
  },
  {
   "cell_type": "code",
   "execution_count": 17,
   "id": "7b09f701",
   "metadata": {},
   "outputs": [],
   "source": [
    "# Question 1"
   ]
  },
  {
   "cell_type": "markdown",
   "id": "ecd9115b",
   "metadata": {},
   "source": [
    "    a.\n",
    "\n",
    "    Y = 100 + 10 (4) + 0.004 (110) + 45 (1)\n",
    "    Y = 185.44\n",
    "\n",
    "    b.\n",
    "\n",
    "    False, because we need to calculate the p-value to determine whether it is significant or not. In this case the p-value is significant, so we cannot remove it from the model."
   ]
  },
  {
   "cell_type": "code",
   "execution_count": 18,
   "id": "c340eef2",
   "metadata": {},
   "outputs": [],
   "source": [
    "# Question 2\n",
    "\n",
    "file_path = 'ice4.csv'  \n",
    "data = pd.read_csv(file_path)"
   ]
  },
  {
   "cell_type": "code",
   "execution_count": 19,
   "id": "ae7aa633",
   "metadata": {},
   "outputs": [
    {
     "name": "stdout",
     "output_type": "stream",
     "text": [
      "                            OLS Regression Results                            \n",
      "==============================================================================\n",
      "Dep. Variable:                      y   R-squared:                       1.000\n",
      "Model:                            OLS   Adj. R-squared:                  1.000\n",
      "Method:                 Least Squares   F-statistic:                 2.599e+06\n",
      "Date:                Thu, 12 Sep 2024   Prob (F-statistic):               0.00\n",
      "Time:                        18:38:46   Log-Likelihood:                -2184.3\n",
      "No. Observations:                 500   AIC:                             4379.\n",
      "Df Residuals:                     495   BIC:                             4400.\n",
      "Df Model:                           4                                         \n",
      "Covariance Type:            nonrobust                                         \n",
      "==============================================================================\n",
      "                 coef    std err          t      P>|t|      [0.025      0.975]\n",
      "------------------------------------------------------------------------------\n",
      "const         30.8964      0.860     35.946      0.000      29.208      32.585\n",
      "x1             1.0133      0.031     33.183      0.000       0.953       1.073\n",
      "x2             2.0020      0.029     67.912      0.000       1.944       2.060\n",
      "x3             2.9891      0.030     98.345      0.000       2.929       3.049\n",
      "x4            99.9734      0.031   3217.575      0.000      99.912     100.034\n",
      "==============================================================================\n",
      "Omnibus:                        1.347   Durbin-Watson:                   2.035\n",
      "Prob(Omnibus):                  0.510   Jarque-Bera (JB):                1.401\n",
      "Skew:                          -0.123   Prob(JB):                        0.496\n",
      "Kurtosis:                       2.919   Cond. No.                         29.9\n",
      "==============================================================================\n",
      "\n",
      "Notes:\n",
      "[1] Standard Errors assume that the covariance matrix of the errors is correctly specified.\n",
      "F-statistic: 2599057.749525453\n",
      "p-value: 0.0\n",
      "R-squared: 0.9999523888577914\n"
     ]
    },
    {
     "name": "stderr",
     "output_type": "stream",
     "text": [
      "C:\\ProgramData\\Anaconda3\\lib\\site-packages\\statsmodels\\tsa\\tsatools.py:142: FutureWarning: In a future version of pandas all arguments of concat except for the argument 'objs' will be keyword-only\n",
      "  x = pd.concat(x[::order], 1)\n"
     ]
    }
   ],
   "source": [
    "# Question 3\n",
    "\n",
    "X = data[['x1', 'x2', 'x3', 'x4']]\n",
    "y = data['y']                       \n",
    "\n",
    "# intercept\n",
    "X = sm.add_constant(X)\n",
    "\n",
    "# fit the multiple linear regression model\n",
    "model = sm.OLS(y, X).fit()\n",
    "\n",
    "print(model.summary())\n",
    "print(\"F-statistic:\", model.fvalue)\n",
    "print(\"p-value:\", model.f_pvalue)\n",
    "print(\"R-squared:\", model.rsquared)"
   ]
  },
  {
   "cell_type": "code",
   "execution_count": 20,
   "id": "0c193aa7",
   "metadata": {},
   "outputs": [],
   "source": [
    "# Question 4"
   ]
  },
  {
   "cell_type": "markdown",
   "id": "af1a5e3f",
   "metadata": {},
   "source": [
    "    Because our p-value is less than the standard significance of 0.05, we reject the null hypothesis."
   ]
  },
  {
   "cell_type": "code",
   "execution_count": null,
   "id": "7c884098",
   "metadata": {},
   "outputs": [],
   "source": []
  }
 ],
 "metadata": {
  "kernelspec": {
   "display_name": "Python 3 (ipykernel)",
   "language": "python",
   "name": "python3"
  },
  "language_info": {
   "codemirror_mode": {
    "name": "ipython",
    "version": 3
   },
   "file_extension": ".py",
   "mimetype": "text/x-python",
   "name": "python",
   "nbconvert_exporter": "python",
   "pygments_lexer": "ipython3",
   "version": "3.9.7"
  }
 },
 "nbformat": 4,
 "nbformat_minor": 5
}
